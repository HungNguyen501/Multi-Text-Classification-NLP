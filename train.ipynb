{
  "nbformat": 4,
  "nbformat_minor": 0,
  "metadata": {
    "colab": {
      "name": "train.ipynb",
      "provenance": [],
      "collapsed_sections": [],
      "mount_file_id": "10aek6vBWq17DjhHD4_Kh4Raam2L435DJ",
      "authorship_tag": "ABX9TyNLXMR0M0mRpqhpGW0k99J+",
      "include_colab_link": true
    },
    "kernelspec": {
      "name": "python3",
      "display_name": "Python 3"
    }
  },
  "cells": [
    {
      "cell_type": "markdown",
      "metadata": {
        "id": "view-in-github",
        "colab_type": "text"
      },
      "source": [
        "<a href=\"https://colab.research.google.com/github/HungNguyen501/Multi-Text-Classification-NLP-/blob/main/train.ipynb\" target=\"_parent\"><img src=\"https://colab.research.google.com/assets/colab-badge.svg\" alt=\"Open In Colab\"/></a>"
      ]
    },
    {
      "cell_type": "code",
      "metadata": {
        "id": "lq8eJKa9X_uA"
      },
      "source": [
        "# py train.py lstm 50 data/train/data.xlsx\r\n",
        "import tensorflow as tf \r\n",
        "import keras\r\n",
        "import nltk\r\n",
        "import pandas as pd\r\n",
        "import numpy as np\r\n",
        "import re\r\n",
        "import codecs\r\n",
        "import pickle\r\n",
        "from keras.preprocessing.text import Tokenizer\r\n",
        "from sklearn.model_selection import train_test_split\r\n",
        "import sys\r\n",
        "from datetime import datetime\r\n",
        "import matplotlib.pyplot as plt\r\n",
        "from nltk.tokenize import RegexpTokenizer\r\n",
        "from google.colab import drive"
      ],
      "execution_count": null,
      "outputs": []
    },
    {
      "cell_type": "code",
      "metadata": {
        "id": "Cvws_R0iVXvh"
      },
      "source": [
        "model_name = 'bilstm'\r\n",
        "EMBEDDING_DIM = 100"
      ],
      "execution_count": null,
      "outputs": []
    },
    {
      "cell_type": "code",
      "metadata": {
        "id": "9W0dxmtNfnFP",
        "colab": {
          "base_uri": "https://localhost:8080/",
          "height": 36
        },
        "outputId": "f7c3d0a0-f84b-425a-9d20-28e1829e69fc"
      },
      "source": [
        "root_path = '/content/drive/MyDrive/Colab Notebooks/scm-tracking-ml/src/'\r\n",
        "root_path"
      ],
      "execution_count": null,
      "outputs": [
        {
          "output_type": "execute_result",
          "data": {
            "application/vnd.google.colaboratory.intrinsic+json": {
              "type": "string"
            },
            "text/plain": [
              "'/content/drive/MyDrive/Colab Notebooks/scm-tracking-ml/src/'"
            ]
          },
          "metadata": {
            "tags": []
          },
          "execution_count": 123
        }
      ]
    },
    {
      "cell_type": "code",
      "metadata": {
        "id": "IhO66skGanJJ",
        "colab": {
          "base_uri": "https://localhost:8080/",
          "height": 194
        },
        "outputId": "b352f881-b12a-4a96-b421-834380ff4126"
      },
      "source": [
        "file_paths = ['data/train/data.xlsx']\r\n",
        "\r\n",
        "li = []\r\n",
        "for path in file_paths:\r\n",
        "    df = pd.read_excel(root_path + path)\r\n",
        "    li.append(df)\r\n",
        "\r\n",
        "data = pd.concat(li, axis=0, ignore_index=True)\r\n",
        "data = data.astype(str)\r\n",
        "data.tail()"
      ],
      "execution_count": null,
      "outputs": [
        {
          "output_type": "execute_result",
          "data": {
            "text/html": [
              "<div>\n",
              "<style scoped>\n",
              "    .dataframe tbody tr th:only-of-type {\n",
              "        vertical-align: middle;\n",
              "    }\n",
              "\n",
              "    .dataframe tbody tr th {\n",
              "        vertical-align: top;\n",
              "    }\n",
              "\n",
              "    .dataframe thead th {\n",
              "        text-align: right;\n",
              "    }\n",
              "</style>\n",
              "<table border=\"1\" class=\"dataframe\">\n",
              "  <thead>\n",
              "    <tr style=\"text-align: right;\">\n",
              "      <th></th>\n",
              "      <th>tracking_number</th>\n",
              "      <th>checkpoint_status</th>\n",
              "      <th>status_description</th>\n",
              "    </tr>\n",
              "  </thead>\n",
              "  <tbody>\n",
              "    <tr>\n",
              "      <th>68624</th>\n",
              "      <td>LY302028146CN</td>\n",
              "      <td>COMPLETED</td>\n",
              "      <td>KINSTON, NC 28501, Delivered, In/At Mailbox -&gt;...</td>\n",
              "    </tr>\n",
              "    <tr>\n",
              "      <th>68625</th>\n",
              "      <td>LY302028146CN</td>\n",
              "      <td>COMPLETED</td>\n",
              "      <td>KINSTON, NC 28501, Delivered, In/At Mailbox -&gt;...</td>\n",
              "    </tr>\n",
              "    <tr>\n",
              "      <th>68626</th>\n",
              "      <td>LS364306180CN</td>\n",
              "      <td>COMPLETED</td>\n",
              "      <td>United States, 【United States】has completed th...</td>\n",
              "    </tr>\n",
              "    <tr>\n",
              "      <th>68627</th>\n",
              "      <td>LS364306180CN</td>\n",
              "      <td>COMPLETED</td>\n",
              "      <td>United States, 【United States】has completed th...</td>\n",
              "    </tr>\n",
              "    <tr>\n",
              "      <th>68628</th>\n",
              "      <td>LS364306180CN</td>\n",
              "      <td>COMPLETED</td>\n",
              "      <td>United States, 【United States】has completed th...</td>\n",
              "    </tr>\n",
              "  </tbody>\n",
              "</table>\n",
              "</div>"
            ],
            "text/plain": [
              "      tracking_number  ...                                 status_description\n",
              "68624   LY302028146CN  ...  KINSTON, NC 28501, Delivered, In/At Mailbox ->...\n",
              "68625   LY302028146CN  ...  KINSTON, NC 28501, Delivered, In/At Mailbox ->...\n",
              "68626   LS364306180CN  ...  United States, 【United States】has completed th...\n",
              "68627   LS364306180CN  ...  United States, 【United States】has completed th...\n",
              "68628   LS364306180CN  ...  United States, 【United States】has completed th...\n",
              "\n",
              "[5 rows x 3 columns]"
            ]
          },
          "metadata": {
            "tags": []
          },
          "execution_count": 124
        }
      ]
    },
    {
      "cell_type": "code",
      "metadata": {
        "colab": {
          "base_uri": "https://localhost:8080/",
          "height": 252
        },
        "id": "fnYkaofTcFcP",
        "outputId": "e1264766-5661-4694-a4b9-267ec0b940c7"
      },
      "source": [
        "data.groupby('checkpoint_status').count()"
      ],
      "execution_count": null,
      "outputs": [
        {
          "output_type": "execute_result",
          "data": {
            "text/html": [
              "<div>\n",
              "<style scoped>\n",
              "    .dataframe tbody tr th:only-of-type {\n",
              "        vertical-align: middle;\n",
              "    }\n",
              "\n",
              "    .dataframe tbody tr th {\n",
              "        vertical-align: top;\n",
              "    }\n",
              "\n",
              "    .dataframe thead th {\n",
              "        text-align: right;\n",
              "    }\n",
              "</style>\n",
              "<table border=\"1\" class=\"dataframe\">\n",
              "  <thead>\n",
              "    <tr style=\"text-align: right;\">\n",
              "      <th></th>\n",
              "      <th>tracking_number</th>\n",
              "      <th>status_description</th>\n",
              "    </tr>\n",
              "    <tr>\n",
              "      <th>checkpoint_status</th>\n",
              "      <th></th>\n",
              "      <th></th>\n",
              "    </tr>\n",
              "  </thead>\n",
              "  <tbody>\n",
              "    <tr>\n",
              "      <th>COMPLETED</th>\n",
              "      <td>63115</td>\n",
              "      <td>63115</td>\n",
              "    </tr>\n",
              "    <tr>\n",
              "      <th>DELIVERED_GUARANTEE</th>\n",
              "      <td>4</td>\n",
              "      <td>4</td>\n",
              "    </tr>\n",
              "    <tr>\n",
              "      <th>IN_US</th>\n",
              "      <td>3147</td>\n",
              "      <td>3147</td>\n",
              "    </tr>\n",
              "    <tr>\n",
              "      <th>RETURN_TO_SENDER</th>\n",
              "      <td>1208</td>\n",
              "      <td>1208</td>\n",
              "    </tr>\n",
              "    <tr>\n",
              "      <th>TRACKING_AVAILABLE</th>\n",
              "      <td>184</td>\n",
              "      <td>184</td>\n",
              "    </tr>\n",
              "    <tr>\n",
              "      <th>TRACKING_ONLINE</th>\n",
              "      <td>971</td>\n",
              "      <td>971</td>\n",
              "    </tr>\n",
              "  </tbody>\n",
              "</table>\n",
              "</div>"
            ],
            "text/plain": [
              "                     tracking_number  status_description\n",
              "checkpoint_status                                       \n",
              "COMPLETED                      63115               63115\n",
              "DELIVERED_GUARANTEE                4                   4\n",
              "IN_US                           3147                3147\n",
              "RETURN_TO_SENDER                1208                1208\n",
              "TRACKING_AVAILABLE               184                 184\n",
              "TRACKING_ONLINE                  971                 971"
            ]
          },
          "metadata": {
            "tags": []
          },
          "execution_count": 125
        }
      ]
    },
    {
      "cell_type": "code",
      "metadata": {
        "colab": {
          "base_uri": "https://localhost:8080/"
        },
        "id": "Ufho0A_qcuGf",
        "outputId": "8d889911-7699-466e-abf1-feb0d562b1a2"
      },
      "source": [
        "import nltk\r\n",
        "nltk.download('stopwords')\r\n",
        "nltk.download('wordnet')\r\n",
        "\r\n",
        "\r\n",
        "from nltk.corpus import stopwords\r\n",
        "from nltk.tokenize import word_tokenize \r\n",
        "from nltk.stem import WordNetLemmatizer\r\n",
        "\r\n",
        "REPLACE_BY_SPACE_RE = re.compile('[/(){}\\\\[\\\\]\\\\|@,;]')\r\n",
        "BAD_SYMBOLS_RE = re.compile('[^0-9a-z #+_]')\r\n",
        "STOPWORDS = set(stopwords.words('english'))\r\n",
        "lemmatizer = WordNetLemmatizer()\r\n",
        "\r\n",
        "\r\n",
        "def clean_text(text):\r\n",
        "    \"\"\"\r\n",
        "        text: a string\r\n",
        "        return: modified initial string\r\n",
        "    \"\"\"\r\n",
        "    text = text.lower() # lowercase text\r\n",
        "    text = REPLACE_BY_SPACE_RE.sub(' ', text) # replace REPLACE_BY_SPACE_RE symbols by space in text. substitute the matched string in REPLACE_BY_SPACE_RE with space.\r\n",
        "    text = BAD_SYMBOLS_RE.sub(' ', text) # remove symbols which are in BAD_SYMBOLS_RE from text. substitute the matched string in BAD_SYMBOLS_RE with nothing. \r\n",
        "    text = re.sub('\\\\d+', ' ', text) # Remove digit number from text\r\n",
        "    text = ' '.join(word for word in text.split() if word not in STOPWORDS) # remove stopwors from text\r\n",
        "    text = ' '.join(lemmatizer.lemmatize(word) for word in text.split() ) # Lemmatization\r\n",
        "\r\n",
        "    return text"
      ],
      "execution_count": null,
      "outputs": [
        {
          "output_type": "stream",
          "text": [
            "[nltk_data] Downloading package stopwords to /root/nltk_data...\n",
            "[nltk_data]   Package stopwords is already up-to-date!\n",
            "[nltk_data] Downloading package wordnet to /root/nltk_data...\n",
            "[nltk_data]   Package wordnet is already up-to-date!\n"
          ],
          "name": "stdout"
        }
      ]
    },
    {
      "cell_type": "code",
      "metadata": {
        "id": "ezJExBmUcsgN"
      },
      "source": [
        "from keras.preprocessing.sequence import pad_sequences\r\n",
        "from keras.utils import to_categorical\r\n",
        "\r\n",
        "re_tokenizer = RegexpTokenizer(r'\\w+')\r\n",
        "\r\n",
        "# Max number of words in each status_description\r\n",
        "MAX_SEQUENCE_LENGTH = 250\r\n",
        "\r\n",
        "\r\n",
        "def tokenizing(df, EMBEDDING_DIM):\r\n",
        "    df[\"tokens\"] = df[\"status_description\"].apply(re_tokenizer.tokenize)\r\n",
        "\r\n",
        "    all_words = [word for tokens in df[\"tokens\"] for word in tokens]\r\n",
        "    sentence_lengths = [len(tokens) for tokens in clean_data[\"tokens\"]]\r\n",
        "    VOCAB = sorted(list(set(all_words)))\r\n",
        "\r\n",
        "    print('Words total: {}'.format(len(all_words)))\r\n",
        "    print('Vocabulary size: {}'.format(len(VOCAB)))\r\n",
        "    print('Max sentence length is {}'.format(max(sentence_lengths)) )\r\n",
        "\r\n",
        "    # The maximum number of words to be used. (most frequent)\r\n",
        "    VOCAB_SIZE = len(VOCAB) + 1\r\n",
        "    # OOV = Out of Vocabulary\r\n",
        "    oov_tok = '<OOV>' \r\n",
        "    print('VOCAB_SIZE: {}'.format(VOCAB_SIZE))\r\n",
        "    print('MAX_SEQUENCE_LENGTH: {}'.format(MAX_SEQUENCE_LENGTH))\r\n",
        "    print('EMBEDDING_DIM: {}\\n'.format(EMBEDDING_DIM))\r\n",
        "\r\n",
        "    tokenizer = Tokenizer(num_words=VOCAB_SIZE, filters='!\"#$%&()*+,-./:;<=>?@[\\\\]^_`{|}~', lower=True)\r\n",
        "    tokenizer = Tokenizer(num_words = VOCAB_SIZE, oov_token=oov_tok)\r\n",
        "    tokenizer.fit_on_texts(df['status_description'].values)\r\n",
        "\r\n",
        "    return df, tokenizer, VOCAB_SIZE"
      ],
      "execution_count": null,
      "outputs": []
    },
    {
      "cell_type": "code",
      "metadata": {
        "id": "HHG8Gu92cves"
      },
      "source": [
        "def get_embedding_matrix(word_index, VOCAB_SIZE=0, glove_file_path = '/content/drive/MyDrive/Colab Notebooks/Global Vectors for Word Representation (GloVe)/glove.6B.' + str(EMBEDDING_DIM) +'d.txt'):\r\n",
        "    f = open(glove_file_path, encoding=\"utf8\")\r\n",
        "    embeddings_index = {}\r\n",
        "\r\n",
        "    for line in f:\r\n",
        "        values = line.split()\r\n",
        "        word = values[0]\r\n",
        "        try:\r\n",
        "            coefs = np.asarray(values[1:], dtype='float32')\r\n",
        "        except:\r\n",
        "            pass\r\n",
        "        embeddings_index[word] = coefs\r\n",
        "    f.close()\r\n",
        "    print('Total %s word vectors.' % len(embeddings_index))\r\n",
        "\r\n",
        "    embedding_matrix = np.random.random((VOCAB_SIZE, EMBEDDING_DIM))\r\n",
        "    for word, i in word_index.items():\r\n",
        "        embedding_vector = embeddings_index.get(word)\r\n",
        "        if embedding_vector is not None:\r\n",
        "            # words not found in embedding index will be all-zeros.\r\n",
        "            if len(embedding_matrix[i]) !=len(embedding_vector):\r\n",
        "                print(\"could not broadcast input array from shape\",str(len(embedding_matrix[i])),\r\n",
        "                                 \"into shape\",str(len(embedding_vector)),\" Please make sure your\"\r\n",
        "                                 \" EMBEDDING_DIM is equal to embedding_vector file ,GloVe,\")\r\n",
        "                exit(1)\r\n",
        "\r\n",
        "            embedding_matrix[i] = embedding_vector\r\n",
        "\r\n",
        "    return embedding_matrix"
      ],
      "execution_count": null,
      "outputs": []
    },
    {
      "cell_type": "code",
      "metadata": {
        "colab": {
          "base_uri": "https://localhost:8080/",
          "height": 194
        },
        "id": "6dKEwcOodSD4",
        "outputId": "c6e905a5-b482-42e8-c93c-251c8036ff1f"
      },
      "source": [
        "# Clean data\r\n",
        "data['status_description'] = data['status_description'].apply(clean_text)\r\n",
        "clean_data = data\r\n",
        "clean_data.tail()"
      ],
      "execution_count": null,
      "outputs": [
        {
          "output_type": "execute_result",
          "data": {
            "text/html": [
              "<div>\n",
              "<style scoped>\n",
              "    .dataframe tbody tr th:only-of-type {\n",
              "        vertical-align: middle;\n",
              "    }\n",
              "\n",
              "    .dataframe tbody tr th {\n",
              "        vertical-align: top;\n",
              "    }\n",
              "\n",
              "    .dataframe thead th {\n",
              "        text-align: right;\n",
              "    }\n",
              "</style>\n",
              "<table border=\"1\" class=\"dataframe\">\n",
              "  <thead>\n",
              "    <tr style=\"text-align: right;\">\n",
              "      <th></th>\n",
              "      <th>tracking_number</th>\n",
              "      <th>checkpoint_status</th>\n",
              "      <th>status_description</th>\n",
              "      <th>tokens</th>\n",
              "    </tr>\n",
              "  </thead>\n",
              "  <tbody>\n",
              "    <tr>\n",
              "      <th>68624</th>\n",
              "      <td>LY302028146CN</td>\n",
              "      <td>COMPLETED</td>\n",
              "      <td>kinston nc delivered mailbox item delivered ma...</td>\n",
              "      <td>[kinston, nc, delivered, mailbox, item, delive...</td>\n",
              "    </tr>\n",
              "    <tr>\n",
              "      <th>68625</th>\n",
              "      <td>LY302028146CN</td>\n",
              "      <td>COMPLETED</td>\n",
              "      <td>kinston nc delivered mailbox item delivered ma...</td>\n",
              "      <td>[kinston, nc, delivered, mailbox, item, delive...</td>\n",
              "    </tr>\n",
              "    <tr>\n",
              "      <th>68626</th>\n",
              "      <td>LS364306180CN</td>\n",
              "      <td>COMPLETED</td>\n",
              "      <td>united state united state completed investment...</td>\n",
              "      <td>[united, state, united, state, completed, inve...</td>\n",
              "    </tr>\n",
              "    <tr>\n",
              "      <th>68627</th>\n",
              "      <td>LS364306180CN</td>\n",
              "      <td>COMPLETED</td>\n",
              "      <td>united state united state completed investment...</td>\n",
              "      <td>[united, state, united, state, completed, inve...</td>\n",
              "    </tr>\n",
              "    <tr>\n",
              "      <th>68628</th>\n",
              "      <td>LS364306180CN</td>\n",
              "      <td>COMPLETED</td>\n",
              "      <td>united state united state completed investment...</td>\n",
              "      <td>[united, state, united, state, completed, inve...</td>\n",
              "    </tr>\n",
              "  </tbody>\n",
              "</table>\n",
              "</div>"
            ],
            "text/plain": [
              "      tracking_number  ...                                             tokens\n",
              "68624   LY302028146CN  ...  [kinston, nc, delivered, mailbox, item, delive...\n",
              "68625   LY302028146CN  ...  [kinston, nc, delivered, mailbox, item, delive...\n",
              "68626   LS364306180CN  ...  [united, state, united, state, completed, inve...\n",
              "68627   LS364306180CN  ...  [united, state, united, state, completed, inve...\n",
              "68628   LS364306180CN  ...  [united, state, united, state, completed, inve...\n",
              "\n",
              "[5 rows x 4 columns]"
            ]
          },
          "metadata": {
            "tags": []
          },
          "execution_count": 137
        }
      ]
    },
    {
      "cell_type": "code",
      "metadata": {
        "colab": {
          "base_uri": "https://localhost:8080/"
        },
        "id": "982Fpm1aVKdL",
        "outputId": "4a8d6aec-3f6b-4541-8ff9-71ee8d956df4"
      },
      "source": [
        "# Tokenizer\r\n",
        "clean_data, tokenizer, VOCAB_SIZE = tokenizing(clean_data, EMBEDDING_DIM)\r\n",
        "word_index = tokenizer.word_index"
      ],
      "execution_count": null,
      "outputs": [
        {
          "output_type": "stream",
          "text": [
            "Words total: 3750585\n",
            "Vocabulary size: 7074\n",
            "Max sentence length is 518\n",
            "VOCAB_SIZE: 7075\n",
            "MAX_SEQUENCE_LENGTH: 250\n",
            "EMBEDDING_DIM: 100\n",
            "\n"
          ],
          "name": "stdout"
        }
      ]
    },
    {
      "cell_type": "code",
      "metadata": {
        "colab": {
          "base_uri": "https://localhost:8080/"
        },
        "id": "jKR6OsjmTrwh",
        "outputId": "2d92611f-3d97-4101-86dc-327f9b68ad1a"
      },
      "source": [
        "# Get embedding_matrix\r\n",
        "embedding_matrix = get_embedding_matrix(word_index, VOCAB_SIZE)"
      ],
      "execution_count": null,
      "outputs": [
        {
          "output_type": "stream",
          "text": [
            "Total 400000 word vectors.\n"
          ],
          "name": "stdout"
        }
      ]
    },
    {
      "cell_type": "code",
      "metadata": {
        "colab": {
          "base_uri": "https://localhost:8080/"
        },
        "id": "o7LMr6mBOHR7",
        "outputId": "a0b58fd6-89a5-457f-f8ff-b50a5da44a2d"
      },
      "source": [
        "# Split data to train set and test set\r\n",
        "X = tokenizer.texts_to_sequences(clean_data['status_description'].values)\r\n",
        "X = pad_sequences(X, maxlen=MAX_SEQUENCE_LENGTH)\r\n",
        "print('Shape of data tensor:', X.shape)\r\n",
        "\r\n",
        "Y = pd.get_dummies(clean_data['checkpoint_status']).values\r\n",
        "print('Shape of label tensor:', Y.shape)\r\n",
        "\r\n",
        "# Split data to train set and test set\r\n",
        "X_train, X_test, Y_train, Y_test = train_test_split(X,Y, test_size = 0.20, random_state = 42)\r\n",
        "print(X_train.shape,Y_train.shape)\r\n",
        "print(X_test.shape,Y_test.shape)"
      ],
      "execution_count": null,
      "outputs": [
        {
          "output_type": "stream",
          "text": [
            "Shape of data tensor: (68629, 250)\n",
            "Shape of label tensor: (68629, 6)\n",
            "(54903, 250) (54903, 6)\n",
            "(13726, 250) (13726, 6)\n"
          ],
          "name": "stdout"
        }
      ]
    },
    {
      "cell_type": "code",
      "metadata": {
        "id": "kpPLBgEDONep"
      },
      "source": [
        "def LSTM():\r\n",
        "    from keras.models import Sequential\r\n",
        "    from keras.layers import Dense, Embedding, LSTM, SpatialDropout1D, Conv1D, MaxPooling1D\r\n",
        "\r\n",
        "    model = Sequential()\r\n",
        "    model.add(Embedding(input_dim=VOCAB_SIZE,\r\n",
        "                        output_dim=EMBEDDING_DIM,\r\n",
        "                        weights=[embedding_matrix],\r\n",
        "                        input_length=MAX_SEQUENCE_LENGTH,\r\n",
        "                        trainable=True))\r\n",
        "    model.add(Conv1D(filters=32, kernel_size=3, padding='same', activation='relu'))\r\n",
        "    model.add(MaxPooling1D(pool_size=2))\r\n",
        "    model.add(LSTM(EMBEDDING_DIM, dropout=0.2, recurrent_dropout=0.2))\r\n",
        "    model.add(Dense(6, activation='softmax'))\r\n",
        "\r\n",
        "    return model"
      ],
      "execution_count": null,
      "outputs": []
    },
    {
      "cell_type": "code",
      "metadata": {
        "id": "b-gsI7OLdeuM"
      },
      "source": [
        "def BILSTM():\r\n",
        "    from keras.models import Sequential\r\n",
        "    from keras.layers import Dense, Embedding, LSTM, SpatialDropout1D, Bidirectional, Dropout\r\n",
        "\r\n",
        "    model = Sequential()\r\n",
        "    model.add(Embedding(input_dim=VOCAB_SIZE,\r\n",
        "                        output_dim=EMBEDDING_DIM,\r\n",
        "                        weights=[embedding_matrix],\r\n",
        "                        input_length=MAX_SEQUENCE_LENGTH,\r\n",
        "                        trainable=True))\r\n",
        "\r\n",
        "    model.add(SpatialDropout1D(0.3))\r\n",
        "    model.add(Bidirectional(LSTM(EMBEDDING_DIM, dropout=0.3, recurrent_dropout=0.3)))\r\n",
        "    model.add(Dense(EMBEDDING_DIM, activation='relu'))\r\n",
        "    model.add(Dropout(0.8))\r\n",
        "    model.add(Dense(EMBEDDING_DIM, activation='relu'))\r\n",
        "    model.add(Dropout(0.8))\r\n",
        "    model.add(Dense(6, activation='softmax'))\r\n",
        "\r\n",
        "    return model"
      ],
      "execution_count": null,
      "outputs": []
    },
    {
      "cell_type": "code",
      "metadata": {
        "id": "1-0KmXNiVPG4",
        "colab": {
          "base_uri": "https://localhost:8080/"
        },
        "outputId": "ac2d28ae-5927-40aa-8ac9-a412b62c5f8c"
      },
      "source": [
        "from keras.callbacks import EarlyStopping, ModelCheckpoint\r\n",
        "\r\n",
        "print('===> kick off training '+model_name+' model')\r\n",
        "\r\n",
        "if model_name == 'lstm':\r\n",
        "    model = LSTM()\r\n",
        "elif model_name == 'bilstm':\r\n",
        "    model = BILSTM()    \r\n",
        "\r\n",
        "model.compile(loss='categorical_crossentropy', optimizer='adam', metrics=['accuracy'])\r\n",
        "\r\n",
        "print(model.summary())\r\n",
        "\r\n",
        "best_model_file_path = root_path + 'models/'+model_name+'/'+model_name+'_model.h5'\r\n",
        "callbacks = [EarlyStopping(monitor='val_loss', verbose=1, patience=2),\r\n",
        "             ModelCheckpoint(filepath=best_model_file_path, monitor='val_loss', save_best_only=True)]\r\n",
        "\r\n",
        "history = model.fit(X_train, Y_train, epochs=100, batch_size=256, validation_split=0.1, callbacks=callbacks)"
      ],
      "execution_count": null,
      "outputs": [
        {
          "output_type": "stream",
          "text": [
            "===> kick off training bilstm model\n",
            "Model: \"sequential_2\"\n",
            "_________________________________________________________________\n",
            "Layer (type)                 Output Shape              Param #   \n",
            "=================================================================\n",
            "embedding_2 (Embedding)      (None, 250, 100)          707500    \n",
            "_________________________________________________________________\n",
            "spatial_dropout1d_1 (Spatial (None, 250, 100)          0         \n",
            "_________________________________________________________________\n",
            "bidirectional_1 (Bidirection (None, 200)               160800    \n",
            "_________________________________________________________________\n",
            "dense_4 (Dense)              (None, 100)               20100     \n",
            "_________________________________________________________________\n",
            "dropout_2 (Dropout)          (None, 100)               0         \n",
            "_________________________________________________________________\n",
            "dense_5 (Dense)              (None, 100)               10100     \n",
            "_________________________________________________________________\n",
            "dropout_3 (Dropout)          (None, 100)               0         \n",
            "_________________________________________________________________\n",
            "dense_6 (Dense)              (None, 6)                 606       \n",
            "=================================================================\n",
            "Total params: 899,106\n",
            "Trainable params: 899,106\n",
            "Non-trainable params: 0\n",
            "_________________________________________________________________\n",
            "None\n",
            "Epoch 1/100\n",
            " 44/194 [=====>........................] - ETA: 8:52 - loss: 1.2668 - accuracy: 0.5439"
          ],
          "name": "stdout"
        }
      ]
    },
    {
      "cell_type": "code",
      "metadata": {
        "id": "tCznmRadVTZl"
      },
      "source": [
        "# summarize history for loss\r\n",
        "plt.plot(history.history['loss'])\r\n",
        "plt.plot(history.history['val_loss'])\r\n",
        "plt.title('model loss')\r\n",
        "plt.ylabel('loss')\r\n",
        "plt.xlabel('epoch')\r\n",
        "plt.legend(['train', 'test'], loc='upper left')\r\n",
        "plt.show()"
      ],
      "execution_count": null,
      "outputs": []
    },
    {
      "cell_type": "code",
      "metadata": {
        "id": "9pzNLIj0ds18"
      },
      "source": [
        "# Load best model\r\n",
        "from keras.models import load_model\r\n",
        "best_model = load_model(root_path + 'models/'+model_name+'/'+model_name+'_model.h5')\r\n",
        "print('===> Loaded '+model_name+' best model')"
      ],
      "execution_count": null,
      "outputs": []
    },
    {
      "cell_type": "code",
      "metadata": {
        "id": "Mns67PhLdx28"
      },
      "source": [
        "\"\"\"\r\n",
        "Validate test set\r\n",
        "\"\"\"\r\n",
        "accr = best_model.evaluate(X_test,Y_test)\r\n",
        "print('Test set\\n  Loss: {:0.3f}\\n  Accuracy: {:0.3f}'.format(accr[0],accr[1]))"
      ],
      "execution_count": null,
      "outputs": []
    },
    {
      "cell_type": "code",
      "metadata": {
        "id": "kxqBX-L6d1K8"
      },
      "source": [
        "\"\"\"\r\n",
        "Save tokenizer\r\n",
        "\"\"\"\r\n",
        "try:\r\n",
        "    tokenizer_file_name = root_path + 'models/'+model_name+'/saved_tokenizers/'+model_name+'_tokenizer_'+ time_now +'.pickel'\r\n",
        "    pickle.dump(tokenizer, open(tokenizer_file_name, 'wb'))\r\n",
        "    pickle.dump(tokenizer, open(root_path + 'models/'+model_name+'/'+model_name+'_tokenizer.pickel', 'wb'))\r\n",
        "    print('===> Saved '+model_name+' tokenizer.')\r\n",
        "except Exception as ex:\r\n",
        "    print(ex)  "
      ],
      "execution_count": null,
      "outputs": []
    },
    {
      "cell_type": "code",
      "metadata": {
        "id": "DA7Ki63cd3Uc"
      },
      "source": [
        "\"\"\"\r\n",
        "Save model\r\n",
        "\"\"\"\r\n",
        "try:\r\n",
        "    model_file_name = root_path + 'models/'+model_name+'/saved_models/'+model_name+'_model_' + time_now + '.h5'\r\n",
        "    best_model.save(model_file_name)\r\n",
        "    print('===> Saved '+model_name+' model.')\r\n",
        "except Exception as ex:\r\n",
        "    print(ex)"
      ],
      "execution_count": null,
      "outputs": []
    },
    {
      "cell_type": "code",
      "metadata": {
        "id": "AsYPdiDOSwYW"
      },
      "source": [
        ""
      ],
      "execution_count": null,
      "outputs": []
    }
  ]
}